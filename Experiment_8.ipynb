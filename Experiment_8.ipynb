{
  "nbformat": 4,
  "nbformat_minor": 0,
  "metadata": {
    "colab": {
      "provenance": [],
      "authorship_tag": "ABX9TyM6SXf+LOArrlr/SIDzrjcY",
      "include_colab_link": true
    },
    "kernelspec": {
      "name": "python3",
      "display_name": "Python 3"
    },
    "language_info": {
      "name": "python"
    }
  },
  "cells": [
    {
      "cell_type": "markdown",
      "metadata": {
        "id": "view-in-github",
        "colab_type": "text"
      },
      "source": [
        "<a href=\"https://colab.research.google.com/github/Vanshbhattok/AIML-Experiment-8/blob/main/Experiment_8.ipynb\" target=\"_parent\"><img src=\"https://colab.research.google.com/assets/colab-badge.svg\" alt=\"Open In Colab\"/></a>"
      ]
    },
    {
      "cell_type": "code",
      "execution_count": 1,
      "metadata": {
        "colab": {
          "base_uri": "https://localhost:8080/"
        },
        "id": "JXYjEUqPIt3A",
        "outputId": "d5d23346-690c-44e2-ae37-60e20460b3fd"
      },
      "outputs": [
        {
          "output_type": "stream",
          "name": "stdout",
          "text": [
            "Standorized Dataset: \n",
            "[[-0.73524292  0.09100976]\n",
            " [-0.9259899  -0.84105572]\n",
            " [-0.65894413 -0.4268044 ]\n",
            " [-0.31559956 -0.1161159 ]\n",
            " [ 2.04966304  1.36828468]\n",
            " [ 1.63001968 -0.70297195]\n",
            " [-0.27745016 -0.70297195]\n",
            " [-0.73524292  2.43843393]\n",
            " [ 0.48553778 -0.46132534]\n",
            " [ 0.52368717  0.33265637]\n",
            " [-1.04043809 -0.97913949]]\n",
            "Covariance Matrix:\n",
            "[[1.1       0.2059595]\n",
            " [0.2059595 1.1      ]]\n",
            "Eigenvalues:\n",
            "[1.3059595 0.8940405]\n",
            "Eigenvectors:\n",
            "[[ 0.70710678 -0.70710678]\n",
            " [ 0.70710678  0.70710678]]\n",
            "Sorted Eigenvalues: \n",
            "[1.3059595 0.8940405]\n",
            "Sorted Eigenvectors: \n",
            "[[ 0.70710678 -0.70710678]\n",
            " [ 0.70710678  0.70710678]]\n"
          ]
        }
      ],
      "source": [
        "#Experiment - 8 PCA Part\n",
        "\n",
        "import numpy as np\n",
        "import pandas as pd\n",
        "import matplotlib.pyplot as plt\n",
        "\n",
        "\n",
        "#Example Dataset: A sample dataset with 3 features.\n",
        "\n",
        "X = np.array ([[1.0, 3.4],\n",
        "               [0.5, 0.7],\n",
        "               [1.2, 1.9],\n",
        "               [2.1, 2.8],\n",
        "               [8.3, 7.1],\n",
        "               [7.2, 1.1],\n",
        "               [2.2, 1.1],\n",
        "               [1.0, 10.2],\n",
        "               [4.2, 1.8],\n",
        "               [4.3, 4.1],\n",
        "               [0.2, 0.3]])\n",
        "\n",
        "\n",
        "#Standardize the data\n",
        "\n",
        "#Compute the mean and standard deviation of each feature\n",
        "\n",
        "X_mean = np.mean(X, axis=0)\n",
        "X_std = (X- X_mean)/ np.std(X, axis=0)\n",
        "\n",
        "print(\"Standorized Dataset: \")\n",
        "print(X_std)\n",
        "\n",
        "\n",
        "#Compute the covariance matrix\n",
        "cov_matrix = np.cov(X_std.T)\n",
        "print(\"Covariance Matrix:\")\n",
        "print(cov_matrix)\n",
        "\n",
        "\n",
        "#Compute eigenvalues and eigenvectors from the covarience matrix\n",
        "\n",
        "eigenvalues, eigenvectors = np.linalg.eig(cov_matrix)\n",
        "print(\"Eigenvalues:\")\n",
        "print(eigenvalues)\n",
        "print(\"Eigenvectors:\")\n",
        "print(eigenvectors)\n",
        "\n",
        "\n",
        "\n",
        "sorted_indices = np.argsort(np.linalg.eigvals(cov_matrix))[::-1]\n",
        "eigenvalues_sorted = eigenvalues[sorted_indices]\n",
        "eigenvectors_sorted = eigenvectors[:, sorted_indices]\n",
        "\n",
        "print(\"Sorted Eigenvalues: \")\n",
        "print(eigenvalues_sorted)\n",
        "print(\"Sorted Eigenvectors: \")\n",
        "print(eigenvectors_sorted)\n",
        "\n",
        "\n",
        "\n",
        "\n",
        "\n",
        "\n",
        "\n",
        "\n",
        "\n",
        "\n"
      ]
    }
  ]
}